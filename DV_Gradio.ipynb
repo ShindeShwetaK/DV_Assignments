{
 "cells": [
  {
   "cell_type": "code",
   "execution_count": 6,
   "id": "fafa300b",
   "metadata": {},
   "outputs": [
    {
     "name": "stdout",
     "output_type": "stream",
     "text": [
      "Requirement already satisfied: gradio in c:\\users\\karti\\anaconda3\\lib\\site-packages (5.4.0)\n",
      "Collecting streamlit\n",
      "  Obtaining dependency information for streamlit from https://files.pythonhosted.org/packages/ef/e1/f9c479f9dbe0bb702ea5ca6608f10e91a708b438f7fb4572a2642718c6e3/streamlit-1.39.0-py2.py3-none-any.whl.metadata\n",
      "  Downloading streamlit-1.39.0-py2.py3-none-any.whl.metadata (8.5 kB)\n",
      "Requirement already satisfied: aiofiles<24.0,>=22.0 in c:\\users\\karti\\anaconda3\\lib\\site-packages (from gradio) (22.1.0)\n",
      "Requirement already satisfied: anyio<5.0,>=3.0 in c:\\users\\karti\\anaconda3\\lib\\site-packages (from gradio) (3.5.0)\n",
      "Requirement already satisfied: fastapi<1.0,>=0.115.2 in c:\\users\\karti\\anaconda3\\lib\\site-packages (from gradio) (0.115.4)\n",
      "Requirement already satisfied: ffmpy in c:\\users\\karti\\anaconda3\\lib\\site-packages (from gradio) (0.4.0)\n",
      "Requirement already satisfied: gradio-client==1.4.2 in c:\\users\\karti\\anaconda3\\lib\\site-packages (from gradio) (1.4.2)\n",
      "Requirement already satisfied: httpx>=0.24.1 in c:\\users\\karti\\anaconda3\\lib\\site-packages (from gradio) (0.27.2)\n",
      "Requirement already satisfied: huggingface-hub>=0.25.1 in c:\\users\\karti\\anaconda3\\lib\\site-packages (from gradio) (0.26.2)\n",
      "Requirement already satisfied: jinja2<4.0 in c:\\users\\karti\\anaconda3\\lib\\site-packages (from gradio) (3.1.4)\n",
      "Requirement already satisfied: markupsafe~=2.0 in c:\\users\\karti\\anaconda3\\lib\\site-packages (from gradio) (2.1.1)\n",
      "Requirement already satisfied: numpy<3.0,>=1.0 in c:\\users\\karti\\anaconda3\\lib\\site-packages (from gradio) (1.24.3)\n",
      "Requirement already satisfied: orjson~=3.0 in c:\\users\\karti\\anaconda3\\lib\\site-packages (from gradio) (3.10.10)\n",
      "Requirement already satisfied: packaging in c:\\users\\karti\\anaconda3\\lib\\site-packages (from gradio) (23.1)\n",
      "Requirement already satisfied: pandas<3.0,>=1.0 in c:\\users\\karti\\anaconda3\\lib\\site-packages (from gradio) (1.5.3)\n",
      "Requirement already satisfied: pillow<12.0,>=8.0 in c:\\users\\karti\\anaconda3\\lib\\site-packages (from gradio) (10.4.0)\n",
      "Requirement already satisfied: pydantic>=2.0 in c:\\users\\karti\\anaconda3\\lib\\site-packages (from gradio) (2.9.2)\n",
      "Requirement already satisfied: pydub in c:\\users\\karti\\anaconda3\\lib\\site-packages (from gradio) (0.25.1)\n",
      "Requirement already satisfied: python-multipart==0.0.12 in c:\\users\\karti\\anaconda3\\lib\\site-packages (from gradio) (0.0.12)\n",
      "Requirement already satisfied: pyyaml<7.0,>=5.0 in c:\\users\\karti\\anaconda3\\lib\\site-packages (from gradio) (6.0)\n",
      "Requirement already satisfied: ruff>=0.2.2 in c:\\users\\karti\\anaconda3\\lib\\site-packages (from gradio) (0.7.1)\n",
      "Requirement already satisfied: safehttpx<1.0,>=0.1.1 in c:\\users\\karti\\anaconda3\\lib\\site-packages (from gradio) (0.1.1)\n",
      "Requirement already satisfied: semantic-version~=2.0 in c:\\users\\karti\\anaconda3\\lib\\site-packages (from gradio) (2.10.0)\n",
      "Requirement already satisfied: starlette<1.0,>=0.40.0 in c:\\users\\karti\\anaconda3\\lib\\site-packages (from gradio) (0.41.2)\n",
      "Requirement already satisfied: tomlkit==0.12.0 in c:\\users\\karti\\anaconda3\\lib\\site-packages (from gradio) (0.12.0)\n",
      "Requirement already satisfied: typer<1.0,>=0.12 in c:\\users\\karti\\anaconda3\\lib\\site-packages (from gradio) (0.12.5)\n",
      "Requirement already satisfied: typing-extensions~=4.0 in c:\\users\\karti\\anaconda3\\lib\\site-packages (from gradio) (4.12.2)\n",
      "Requirement already satisfied: uvicorn>=0.14.0 in c:\\users\\karti\\anaconda3\\lib\\site-packages (from gradio) (0.32.0)\n",
      "Requirement already satisfied: fsspec in c:\\users\\karti\\anaconda3\\lib\\site-packages (from gradio-client==1.4.2->gradio) (2024.10.0)\n",
      "Requirement already satisfied: websockets<13.0,>=10.0 in c:\\users\\karti\\anaconda3\\lib\\site-packages (from gradio-client==1.4.2->gradio) (12.0)\n",
      "Collecting altair<6,>=4.0 (from streamlit)\n",
      "  Obtaining dependency information for altair<6,>=4.0 from https://files.pythonhosted.org/packages/9b/52/4a86a4fa1cc2aae79137cc9510b7080c3e5aede2310d14fae5486feec7f7/altair-5.4.1-py3-none-any.whl.metadata\n",
      "  Downloading altair-5.4.1-py3-none-any.whl.metadata (9.4 kB)\n",
      "Collecting blinker<2,>=1.0.0 (from streamlit)\n",
      "  Obtaining dependency information for blinker<2,>=1.0.0 from https://files.pythonhosted.org/packages/bb/2a/10164ed1f31196a2f7f3799368a821765c62851ead0e630ab52b8e14b4d0/blinker-1.8.2-py3-none-any.whl.metadata\n",
      "  Downloading blinker-1.8.2-py3-none-any.whl.metadata (1.6 kB)\n",
      "Collecting cachetools<6,>=4.0 (from streamlit)\n",
      "  Obtaining dependency information for cachetools<6,>=4.0 from https://files.pythonhosted.org/packages/a4/07/14f8ad37f2d12a5ce41206c21820d8cb6561b728e51fad4530dff0552a67/cachetools-5.5.0-py3-none-any.whl.metadata\n",
      "  Downloading cachetools-5.5.0-py3-none-any.whl.metadata (5.3 kB)\n",
      "Requirement already satisfied: click<9,>=7.0 in c:\\users\\karti\\anaconda3\\lib\\site-packages (from streamlit) (8.0.4)\n",
      "Collecting protobuf<6,>=3.20 (from streamlit)\n",
      "  Obtaining dependency information for protobuf<6,>=3.20 from https://files.pythonhosted.org/packages/9c/4c/4563ebe001ff30dca9d7ed12e471fa098d9759712980cde1fd03a3a44fb7/protobuf-5.28.3-cp310-abi3-win_amd64.whl.metadata\n",
      "  Downloading protobuf-5.28.3-cp310-abi3-win_amd64.whl.metadata (592 bytes)\n",
      "Requirement already satisfied: pyarrow>=7.0 in c:\\users\\karti\\anaconda3\\lib\\site-packages (from streamlit) (11.0.0)\n",
      "Requirement already satisfied: requests<3,>=2.27 in c:\\users\\karti\\anaconda3\\lib\\site-packages (from streamlit) (2.31.0)\n",
      "Requirement already satisfied: rich<14,>=10.14.0 in c:\\users\\karti\\anaconda3\\lib\\site-packages (from streamlit) (13.9.3)\n",
      "Requirement already satisfied: tenacity<10,>=8.1.0 in c:\\users\\karti\\anaconda3\\lib\\site-packages (from streamlit) (8.2.2)\n",
      "Requirement already satisfied: toml<2,>=0.10.1 in c:\\users\\karti\\anaconda3\\lib\\site-packages (from streamlit) (0.10.2)\n",
      "Collecting gitpython!=3.1.19,<4,>=3.0.7 (from streamlit)\n",
      "  Obtaining dependency information for gitpython!=3.1.19,<4,>=3.0.7 from https://files.pythonhosted.org/packages/e9/bd/cc3a402a6439c15c3d4294333e13042b915bbeab54edc457c723931fed3f/GitPython-3.1.43-py3-none-any.whl.metadata\n",
      "  Downloading GitPython-3.1.43-py3-none-any.whl.metadata (13 kB)\n",
      "Collecting pydeck<1,>=0.8.0b4 (from streamlit)\n",
      "  Obtaining dependency information for pydeck<1,>=0.8.0b4 from https://files.pythonhosted.org/packages/ab/4c/b888e6cf58bd9db9c93f40d1c6be8283ff49d88919231afe93a6bcf61626/pydeck-0.9.1-py2.py3-none-any.whl.metadata\n",
      "  Downloading pydeck-0.9.1-py2.py3-none-any.whl.metadata (4.1 kB)\n",
      "Requirement already satisfied: tornado<7,>=6.0.3 in c:\\users\\karti\\anaconda3\\lib\\site-packages (from streamlit) (6.3.2)\n",
      "Requirement already satisfied: watchdog<6,>=2.1.5 in c:\\users\\karti\\anaconda3\\lib\\site-packages (from streamlit) (2.1.6)\n",
      "Requirement already satisfied: jsonschema>=3.0 in c:\\users\\karti\\anaconda3\\lib\\site-packages (from altair<6,>=4.0->streamlit) (4.17.3)\n",
      "Collecting narwhals>=1.5.2 (from altair<6,>=4.0->streamlit)\n",
      "  Obtaining dependency information for narwhals>=1.5.2 from https://files.pythonhosted.org/packages/05/a8/22981ae479f9fc8d8f2d2bae3e399222887693c08fadeb575c3e220d1179/narwhals-1.12.1-py3-none-any.whl.metadata\n",
      "  Downloading narwhals-1.12.1-py3-none-any.whl.metadata (7.2 kB)\n",
      "Requirement already satisfied: idna>=2.8 in c:\\users\\karti\\anaconda3\\lib\\site-packages (from anyio<5.0,>=3.0->gradio) (3.4)\n",
      "Requirement already satisfied: sniffio>=1.1 in c:\\users\\karti\\anaconda3\\lib\\site-packages (from anyio<5.0,>=3.0->gradio) (1.2.0)\n",
      "Requirement already satisfied: colorama in c:\\users\\karti\\anaconda3\\lib\\site-packages (from click<9,>=7.0->streamlit) (0.4.6)\n",
      "Collecting gitdb<5,>=4.0.1 (from gitpython!=3.1.19,<4,>=3.0.7->streamlit)\n",
      "  Obtaining dependency information for gitdb<5,>=4.0.1 from https://files.pythonhosted.org/packages/fd/5b/8f0c4a5bb9fd491c277c21eff7ccae71b47d43c4446c9d0c6cff2fe8c2c4/gitdb-4.0.11-py3-none-any.whl.metadata\n",
      "  Downloading gitdb-4.0.11-py3-none-any.whl.metadata (1.2 kB)\n",
      "Requirement already satisfied: certifi in c:\\users\\karti\\anaconda3\\lib\\site-packages (from httpx>=0.24.1->gradio) (2023.7.22)\n",
      "Requirement already satisfied: httpcore==1.* in c:\\users\\karti\\anaconda3\\lib\\site-packages (from httpx>=0.24.1->gradio) (1.0.5)\n",
      "Requirement already satisfied: h11<0.15,>=0.13 in c:\\users\\karti\\anaconda3\\lib\\site-packages (from httpcore==1.*->httpx>=0.24.1->gradio) (0.14.0)\n",
      "Requirement already satisfied: filelock in c:\\users\\karti\\anaconda3\\lib\\site-packages (from huggingface-hub>=0.25.1->gradio) (3.9.0)\n",
      "Requirement already satisfied: tqdm>=4.42.1 in c:\\users\\karti\\anaconda3\\lib\\site-packages (from huggingface-hub>=0.25.1->gradio) (4.65.0)\n",
      "Requirement already satisfied: python-dateutil>=2.8.1 in c:\\users\\karti\\anaconda3\\lib\\site-packages (from pandas<3.0,>=1.0->gradio) (2.8.2)\n",
      "Requirement already satisfied: pytz>=2020.1 in c:\\users\\karti\\anaconda3\\lib\\site-packages (from pandas<3.0,>=1.0->gradio) (2023.3.post1)\n",
      "Requirement already satisfied: annotated-types>=0.6.0 in c:\\users\\karti\\anaconda3\\lib\\site-packages (from pydantic>=2.0->gradio) (0.7.0)\n",
      "Requirement already satisfied: pydantic-core==2.23.4 in c:\\users\\karti\\anaconda3\\lib\\site-packages (from pydantic>=2.0->gradio) (2.23.4)\n",
      "Requirement already satisfied: charset-normalizer<4,>=2 in c:\\users\\karti\\anaconda3\\lib\\site-packages (from requests<3,>=2.27->streamlit) (2.0.4)\n",
      "Requirement already satisfied: urllib3<3,>=1.21.1 in c:\\users\\karti\\anaconda3\\lib\\site-packages (from requests<3,>=2.27->streamlit) (1.26.16)\n",
      "Requirement already satisfied: markdown-it-py>=2.2.0 in c:\\users\\karti\\anaconda3\\lib\\site-packages (from rich<14,>=10.14.0->streamlit) (2.2.0)\n",
      "Requirement already satisfied: pygments<3.0.0,>=2.13.0 in c:\\users\\karti\\anaconda3\\lib\\site-packages (from rich<14,>=10.14.0->streamlit) (2.15.1)\n",
      "Requirement already satisfied: shellingham>=1.3.0 in c:\\users\\karti\\anaconda3\\lib\\site-packages (from typer<1.0,>=0.12->gradio) (1.5.4)\n",
      "Collecting smmap<6,>=3.0.1 (from gitdb<5,>=4.0.1->gitpython!=3.1.19,<4,>=3.0.7->streamlit)\n",
      "  Obtaining dependency information for smmap<6,>=3.0.1 from https://files.pythonhosted.org/packages/a7/a5/10f97f73544edcdef54409f1d839f6049a0d79df68adbc1ceb24d1aaca42/smmap-5.0.1-py3-none-any.whl.metadata\n",
      "  Downloading smmap-5.0.1-py3-none-any.whl.metadata (4.3 kB)\n",
      "Requirement already satisfied: attrs>=17.4.0 in c:\\users\\karti\\anaconda3\\lib\\site-packages (from jsonschema>=3.0->altair<6,>=4.0->streamlit) (22.1.0)\n",
      "Requirement already satisfied: pyrsistent!=0.17.0,!=0.17.1,!=0.17.2,>=0.14.0 in c:\\users\\karti\\anaconda3\\lib\\site-packages (from jsonschema>=3.0->altair<6,>=4.0->streamlit) (0.18.0)\n",
      "Requirement already satisfied: mdurl~=0.1 in c:\\users\\karti\\anaconda3\\lib\\site-packages (from markdown-it-py>=2.2.0->rich<14,>=10.14.0->streamlit) (0.1.0)\n",
      "Requirement already satisfied: six>=1.5 in c:\\users\\karti\\anaconda3\\lib\\site-packages (from python-dateutil>=2.8.1->pandas<3.0,>=1.0->gradio) (1.16.0)\n",
      "Downloading streamlit-1.39.0-py2.py3-none-any.whl (8.7 MB)\n",
      "   ---------------------------------------- 0.0/8.7 MB ? eta -:--:--\n",
      "    --------------------------------------- 0.1/8.7 MB 3.3 MB/s eta 0:00:03\n",
      "    --------------------------------------- 0.2/8.7 MB 3.1 MB/s eta 0:00:03\n",
      "   - -------------------------------------- 0.3/8.7 MB 1.9 MB/s eta 0:00:05\n",
      "   - -------------------------------------- 0.4/8.7 MB 2.2 MB/s eta 0:00:04\n",
      "   -- ------------------------------------- 0.6/8.7 MB 2.5 MB/s eta 0:00:04\n",
      "   --- ------------------------------------ 0.8/8.7 MB 2.7 MB/s eta 0:00:03\n",
      "   ---- ----------------------------------- 1.0/8.7 MB 3.0 MB/s eta 0:00:03\n",
      "   ----- ---------------------------------- 1.3/8.7 MB 3.3 MB/s eta 0:00:03\n",
      "   ------ --------------------------------- 1.5/8.7 MB 3.3 MB/s eta 0:00:03\n",
      "   -------- ------------------------------- 1.8/8.7 MB 3.5 MB/s eta 0:00:02\n",
      "   --------- ------------------------------ 2.1/8.7 MB 3.6 MB/s eta 0:00:02\n",
      "   ---------- ----------------------------- 2.2/8.7 MB 3.7 MB/s eta 0:00:02\n",
      "   ----------- ---------------------------- 2.4/8.7 MB 3.7 MB/s eta 0:00:02\n",
      "   ------------ --------------------------- 2.8/8.7 MB 3.9 MB/s eta 0:00:02\n",
      "   -------------- ------------------------- 3.1/8.7 MB 4.2 MB/s eta 0:00:02\n",
      "   ---------------- ----------------------- 3.7/8.7 MB 4.5 MB/s eta 0:00:02\n",
      "   ------------------- -------------------- 4.2/8.7 MB 4.9 MB/s eta 0:00:01\n",
      "   -------------------- ------------------- 4.5/8.7 MB 5.0 MB/s eta 0:00:01\n",
      "   ---------------------- ----------------- 5.0/8.7 MB 5.2 MB/s eta 0:00:01\n",
      "   ------------------------- -------------- 5.5/8.7 MB 5.5 MB/s eta 0:00:01\n",
      "   -------------------------- ------------- 5.9/8.7 MB 5.6 MB/s eta 0:00:01\n",
      "   ------------------------------ --------- 6.7/8.7 MB 6.0 MB/s eta 0:00:01\n",
      "   -------------------------------- ------- 7.1/8.7 MB 6.1 MB/s eta 0:00:01\n",
      "   ------------------------------------ --- 8.0/8.7 MB 6.6 MB/s eta 0:00:01\n",
      "   -------------------------------------- - 8.4/8.7 MB 6.6 MB/s eta 0:00:01\n",
      "   ---------------------------------------  8.7/8.7 MB 6.8 MB/s eta 0:00:01\n",
      "   ---------------------------------------- 8.7/8.7 MB 6.6 MB/s eta 0:00:00\n",
      "Downloading altair-5.4.1-py3-none-any.whl (658 kB)\n",
      "   ---------------------------------------- 0.0/658.1 kB ? eta -:--:--\n",
      "   ------------------------------------- - 634.9/658.1 kB 19.5 MB/s eta 0:00:01\n",
      "   --------------------------------------- 658.1/658.1 kB 10.3 MB/s eta 0:00:00\n",
      "Downloading blinker-1.8.2-py3-none-any.whl (9.5 kB)\n",
      "Using cached cachetools-5.5.0-py3-none-any.whl (9.5 kB)\n",
      "Using cached GitPython-3.1.43-py3-none-any.whl (207 kB)\n",
      "Downloading protobuf-5.28.3-cp310-abi3-win_amd64.whl (431 kB)\n",
      "   ---------------------------------------- 0.0/431.5 kB ? eta -:--:--\n",
      "   ---------------------------------------- 431.5/431.5 kB ? eta 0:00:00\n",
      "Downloading pydeck-0.9.1-py2.py3-none-any.whl (6.9 MB)\n",
      "   ---------------------------------------- 0.0/6.9 MB ? eta -:--:--\n",
      "   ---- ----------------------------------- 0.7/6.9 MB 14.6 MB/s eta 0:00:01\n",
      "   --------- ------------------------------ 1.7/6.9 MB 17.8 MB/s eta 0:00:01\n",
      "   ------------- -------------------------- 2.4/6.9 MB 16.7 MB/s eta 0:00:01\n",
      "   ----------------- ---------------------- 3.0/6.9 MB 17.6 MB/s eta 0:00:01\n",
      "   ---------------------- ----------------- 3.9/6.9 MB 15.4 MB/s eta 0:00:01\n",
      "   ---------------------------- ----------- 4.8/6.9 MB 16.3 MB/s eta 0:00:01\n",
      "   ---------------------------------- ----- 6.0/6.9 MB 17.5 MB/s eta 0:00:01\n",
      "   -------------------------------------- - 6.6/6.9 MB 16.9 MB/s eta 0:00:01\n",
      "   ---------------------------------------  6.9/6.9 MB 16.9 MB/s eta 0:00:01\n",
      "   ---------------------------------------- 6.9/6.9 MB 15.2 MB/s eta 0:00:00\n",
      "Using cached gitdb-4.0.11-py3-none-any.whl (62 kB)\n",
      "Downloading narwhals-1.12.1-py3-none-any.whl (195 kB)\n",
      "   ---------------------------------------- 0.0/195.1 kB ? eta -:--:--\n",
      "   ---------------------------------------- 195.1/195.1 kB 6.0 MB/s eta 0:00:00\n",
      "Using cached smmap-5.0.1-py3-none-any.whl (24 kB)\n",
      "Installing collected packages: smmap, protobuf, narwhals, cachetools, blinker, pydeck, gitdb, altair, gitpython, streamlit\n",
      "Successfully installed altair-5.4.1 blinker-1.8.2 cachetools-5.5.0 gitdb-4.0.11 gitpython-3.1.43 narwhals-1.12.1 protobuf-5.28.3 pydeck-0.9.1 smmap-5.0.1 streamlit-1.39.0\n"
     ]
    }
   ],
   "source": [
    "!pip install gradio streamlit"
   ]
  },
  {
   "cell_type": "code",
   "execution_count": 10,
   "id": "f1be0b9b",
   "metadata": {},
   "outputs": [],
   "source": [
    "import numpy as np\n",
    "import pandas as pd\n",
    "import matplotlib.pyplot as plt\n",
    "import gradio as gr"
   ]
  },
  {
   "cell_type": "code",
   "execution_count": 11,
   "id": "95a55d1b",
   "metadata": {},
   "outputs": [
    {
     "name": "stdout",
     "output_type": "stream",
     "text": [
      "0.7894736842105263\n"
     ]
    }
   ],
   "source": [
    "# Load the data and split into data and labels\n",
    "from sklearn.datasets import load_iris\n",
    "iris_dataset = load_iris()\n",
    "# We use only The 0'th and 1'st columns.\n",
    "# These correspond to sepal length and width.\n",
    "X = iris_dataset['data'][:, [0, 1]]\n",
    "y = iris_dataset['target']\n",
    "\n",
    "# Split into training and test sets\n",
    "from sklearn.model_selection import train_test_split\n",
    "X_train, X_test, y_train, y_test = train_test_split(X, y, random_state=42)\n",
    "\n",
    "# Import and train a machine learning model\n",
    "from sklearn.ensemble import RandomForestClassifier\n",
    "rf = RandomForestClassifier(random_state=42, n_estimators=100)\n",
    "rf.fit(X_train, y_train)\n",
    "\n",
    "# Predict on the test data\n",
    "y_pred = rf.predict(X_test)\n",
    "\n",
    "# Evaluate the model\n",
    "from sklearn.metrics import accuracy_score\n",
    "print(accuracy_score(y_test, y_pred))"
   ]
  },
  {
   "cell_type": "code",
   "execution_count": 12,
   "id": "0cc80958",
   "metadata": {},
   "outputs": [],
   "source": [
    "def predict_flower(sepal_length, sepal_width):\n",
    "    \"\"\"\n",
    "    Predicts whether an Iris flower is a Versicolor, Virginica, or Setosa.\n",
    "    \n",
    "    Args:\n",
    "        sepal_length (float): The flower's average sepal length in cm.\n",
    "        sepal_width (float): The flower's average sepal width in cm.\n",
    "        \n",
    "    Returns:\n",
    "        str: \"Virginica\", \"Setosa\", or \"Versicolor\".\n",
    "    \"\"\"\n",
    "\n",
    "    # Reshape the input data for prediction\n",
    "    input_data = np.array([sepal_length, sepal_width]).reshape(1, -1)\n",
    "    \n",
    "    # Get the prediction\n",
    "    prediction = rf.predict(input_data)\n",
    "    \n",
    "    # Return the result\n",
    "    if prediction[0] == 0:\n",
    "        return \"Setosa\"\n",
    "    elif prediction[0] == 1:\n",
    "        return \"Versicolor\"\n",
    "    elif prediction[0] == 2:\n",
    "        return \"Virginica\"\n",
    "    else:\n",
    "        raise Exception"
   ]
  },
  {
   "cell_type": "code",
   "execution_count": null,
   "id": "2d499194",
   "metadata": {},
   "outputs": [
    {
     "name": "stdout",
     "output_type": "stream",
     "text": [
      "* Running on local URL:  http://127.0.0.1:7862\n",
      "* Running on public URL: https://caec4257bc50d7a1ab.gradio.live\n",
      "\n",
      "This share link expires in 72 hours. For free permanent hosting and GPU upgrades, run `gradio deploy` from the terminal in the working directory to deploy to Hugging Face Spaces (https://huggingface.co/spaces)\n"
     ]
    },
    {
     "data": {
      "text/html": [
       "<div><iframe src=\"https://caec4257bc50d7a1ab.gradio.live\" width=\"100%\" height=\"500\" allow=\"autoplay; camera; microphone; clipboard-read; clipboard-write;\" frameborder=\"0\" allowfullscreen></iframe></div>"
      ],
      "text/plain": [
       "<IPython.core.display.HTML object>"
      ]
     },
     "metadata": {},
     "output_type": "display_data"
    }
   ],
   "source": [
    "# Set the minimum, maximum, and default values for the sliders\n",
    "# This is optional\n",
    "sl_min = X_train[:,0].min().round(2) \n",
    "sl_max = X_train[:,0].max().round(2) \n",
    "sl_default = X_train[:,0].mean().round(2)\n",
    "\n",
    "sw_min = X_train[:,1].min().round(2) \n",
    "sw_max = X_train[:,1].max().round(2) \n",
    "sw_default = X_train[:,1].mean().round(2)\n",
    "\n",
    "# Create the interface\n",
    "iface = gr.Interface(\n",
    "    fn=predict_flower, \n",
    "    inputs=[\n",
    "        gr.components.Slider(minimum=sl_min, maximum=sl_max, \n",
    "                             value=sl_default, label=\"Sepal length\"),\n",
    "        gr.components.Slider(minimum=sw_min, maximum=sw_max, \n",
    "                             value=sw_default, label=\"Sepal width\"),\n",
    "    ], \n",
    "    outputs=gr.components.Textbox(label=\"Prediction\"),\n",
    "    title=\"Flower Predictor\",\n",
    "    description=\"\"\"Enter your measurement of Sepal Length and Sepal Width to \n",
    "    predict the class of flower.\n",
    "    Data source: Iris Flower Dataset; Model: Random Forest Classifier\"\"\",\n",
    ")\n",
    "\n",
    "# Launch the interface\n",
    "iface.launch(share=True,debug=True)"
   ]
  },
  {
   "cell_type": "markdown",
   "id": "465bb699",
   "metadata": {},
   "source": [
    "#### Crossplaform Streamlit simple calculator in Gradio"
   ]
  },
  {
   "cell_type": "code",
   "execution_count": 8,
   "id": "f69d760e",
   "metadata": {},
   "outputs": [
    {
     "name": "stdout",
     "output_type": "stream",
     "text": [
      "* Running on local URL:  http://127.0.0.1:7861\n",
      "\n",
      "To create a public link, set `share=True` in `launch()`.\n"
     ]
    },
    {
     "data": {
      "text/html": [
       "<div><iframe src=\"http://127.0.0.1:7861/\" width=\"100%\" height=\"500\" allow=\"autoplay; camera; microphone; clipboard-read; clipboard-write;\" frameborder=\"0\" allowfullscreen></iframe></div>"
      ],
      "text/plain": [
       "<IPython.core.display.HTML object>"
      ]
     },
     "metadata": {},
     "output_type": "display_data"
    },
    {
     "data": {
      "text/plain": []
     },
     "execution_count": 8,
     "metadata": {},
     "output_type": "execute_result"
    }
   ],
   "source": [
    "import gradio as gr\n",
    "\n",
    "def calculate(num1, num2, operation):\n",
    "    if operation == \"Addition\":\n",
    "        return num1 + num2\n",
    "    elif operation == \"Subtraction\":\n",
    "        return num1 - num2\n",
    "    elif operation == \"Multiplication\":\n",
    "        return num1 * num2\n",
    "    elif operation == \"Division\":\n",
    "        if num2 != 0:\n",
    "            return num1 / num2\n",
    "        else:\n",
    "            return \"Cannot divide by zero!\"\n",
    "\n",
    "# Create Gradio interface\n",
    "iface = gr.Interface(\n",
    "    fn=calculate,\n",
    "    inputs=[\n",
    "        gr.Number(label=\"Enter the first number\", value=0.0),\n",
    "        gr.Number(label=\"Enter the second number\", value=0.0),\n",
    "        gr.Dropdown(label=\"Choose an operation\", choices=[\"Addition\", \"Subtraction\", \"Multiplication\", \"Division\"])\n",
    "    ],\n",
    "    outputs=\"text\",\n",
    "    title=\"Simple Arithmetic Calculator\",\n",
    "    description=\"Perform basic arithmetic operations: addition, subtraction, multiplication, and division.\"\n",
    ")\n",
    "\n",
    "# Launch the interface\n",
    "iface.launch()"
   ]
  },
  {
   "cell_type": "code",
   "execution_count": null,
   "id": "d88f69ea",
   "metadata": {},
   "outputs": [],
   "source": []
  }
 ],
 "metadata": {
  "kernelspec": {
   "display_name": "Python 3 (ipykernel)",
   "language": "python",
   "name": "python3"
  },
  "language_info": {
   "codemirror_mode": {
    "name": "ipython",
    "version": 3
   },
   "file_extension": ".py",
   "mimetype": "text/x-python",
   "name": "python",
   "nbconvert_exporter": "python",
   "pygments_lexer": "ipython3",
   "version": "3.11.5"
  }
 },
 "nbformat": 4,
 "nbformat_minor": 5
}
